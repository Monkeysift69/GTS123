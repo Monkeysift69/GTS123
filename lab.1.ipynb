{
 "cells": [
  {
   "cell_type": "code",
   "execution_count": 12,
   "metadata": {},
   "outputs": [
    {
     "name": "stdout",
     "output_type": "stream",
     "text": [
      "**\n",
      "**#\n",
      "**#*\n"
     ]
    }
   ],
   "source": [
    "x = input(\"Input:\")\n",
    "\n",
    "#input(1a3432)\n",
    "\n",
    "\n",
    "for i in x: #x = 1a3432\n",
    "    if i.isnumeric():\n",
    "        i = int(i)\n",
    "        for j in range(i): #1a3432\n",
    "                j = int(j)\n",
    "                if (j) % 3 == 2 : #1 2 3 4 5 6\n",
    "                    print(\"#\",end=\"\")\n",
    "                else:\n",
    "                    print(\"*\",end=\"\")\n",
    "    print()\n",
    "    \"\"\"elif i.isalpha() or i == 0:\n",
    "        print()\"\"\""
   ]
  },
  {
   "cell_type": "code",
   "execution_count": 14,
   "metadata": {},
   "outputs": [
    {
     "name": "stdout",
     "output_type": "stream",
     "text": [
      "<class 'list'>\n"
     ]
    }
   ],
   "source": [
    "a = input(\"Enter your running pace (minutes per kilometer): \").split(\":\")\n",
    "b = input(\"Enter your distance (a) Mini-marathon, (b) Half-marathon, (c) Full-marathon: \")\n",
    "\n",
    "\n",
    "a[0] = int(a[0])\n",
    "a[1] = int(a[1])\n",
    "\n",
    "x = a[0] *60"
   ]
  },
  {
   "cell_type": "code",
   "execution_count": 18,
   "metadata": {},
   "outputs": [
    {
     "name": "stdout",
     "output_type": "stream",
     "text": [
      "$&&&&\n",
      "&$&&&\n",
      "&&$&&\n",
      "&&&$&\n",
      "&&&&$\n"
     ]
    }
   ],
   "source": [
    "x = 5\n",
    "\n",
    "for i in range(x):\n",
    "    for j in range(x):\n",
    "        if i == j:\n",
    "            print(\"$\",end=\"\")\n",
    "        else:\n",
    "            print(\"&\", end=\"\")\n",
    "    print()"
   ]
  },
  {
   "cell_type": "code",
   "execution_count": 20,
   "metadata": {},
   "outputs": [
    {
     "name": "stdout",
     "output_type": "stream",
     "text": [
      "....#\n",
      "...#.\n",
      "..#..\n",
      ".#...\n",
      "#....\n"
     ]
    }
   ],
   "source": [
    "x = input(\"\")\n",
    "a = int(input(\"size\"))\n",
    "b = int(input(\"pattern 1 or 2\"))\n",
    "\n",
    "for i in range(a):\n",
    "    for j in range(a):\n",
    "        if b == 1:\n",
    "            if i == j:\n",
    "                print(\"%s\"%x,end=\"\")\n",
    "            else:\n",
    "                print(\".\", end=\"\")\n",
    "        elif b == 2:\n",
    "            if j == a-i-1:\n",
    "                print(\"%s\"%x, end=\"\")\n",
    "            else:\n",
    "                print(\".\", end=\"\")\n",
    "    print()\n"
   ]
  },
  {
   "cell_type": "code",
   "execution_count": 35,
   "metadata": {},
   "outputs": [
    {
     "name": "stdout",
     "output_type": "stream",
     "text": [
      "         #\n",
      "        ##\n",
      "       ###\n",
      "      ####\n",
      "     #####\n",
      "    ######\n",
      "   #######\n",
      "  ########\n",
      " #########\n",
      "##########\n"
     ]
    }
   ],
   "source": [
    "x=int(10)\n",
    "for i in range(1,x+1):\n",
    "    print(\" \"*((x-i)), end=\"\")\n",
    "    print(\"#\"*i)\n",
    "\n",
    "    #print(\" \"*((x-i)))"
   ]
  },
  {
   "cell_type": "code",
   "execution_count": null,
   "metadata": {},
   "outputs": [],
   "source": []
  },
  {
   "cell_type": "code",
   "execution_count": 6,
   "metadata": {},
   "outputs": [
    {
     "name": "stdout",
     "output_type": "stream",
     "text": [
      "#                  #\n",
      "##                ##\n",
      "###              ###\n",
      "####            ####\n",
      "#####          #####\n",
      "######        ######\n",
      "#######      #######\n",
      "########    ########\n",
      "#########  #########\n",
      "####################\n",
      "#########  #########\n",
      "########    ########\n",
      "#######      #######\n",
      "######        ######\n",
      "#####          #####\n",
      "####            ####\n",
      "###              ###\n",
      "##                ##\n",
      "#                  #\n"
     ]
    }
   ],
   "source": [
    "x=10\n",
    "for i in range(1,x+1):\n",
    "    print(\"#\"*i,end=\"\")\n",
    "    print(\" \"*2*(x-i),end=\"\")\n",
    "    print(\"#\"*i)\n",
    "for i in range(x-1,0,-1):\n",
    "    print(\"#\"*i,end=\"\")\n",
    "    print(\" \"*2*(x-i),end=\"\")\n",
    "    print(\"#\"*i)\n"
   ]
  },
  {
   "cell_type": "code",
   "execution_count": 7,
   "metadata": {},
   "outputs": [
    {
     "name": "stdout",
     "output_type": "stream",
     "text": [
      "*        *\n",
      "*#      *#\n",
      "*#*    *#*\n",
      "*#*#  *#*#\n",
      "*#*#**#*#*\n",
      "*#*    *#*\n",
      "*#      *#\n",
      "*        *\n"
     ]
    }
   ],
   "source": [
    "x= int(input(\"\"))\n",
    "for i in range(1,x+1):\n",
    "    for j in range(1,x+1):\n",
    "        if j<=i:\n",
    "            if j%2==0:\n",
    "                print(\"#\",end=\"\")\n",
    "            else:\n",
    "                print(\"*\",end=\"\")\n",
    "    print(\" \"*(2*(x-i)), end=\"\")\n",
    "    for j in range(1,x+1):\n",
    "        if j<=i:\n",
    "            if j%2==0:\n",
    "                print(\"#\",end=\"\")\n",
    "            else:\n",
    "                print(\"*\",end=\"\")\n",
    "    print()\n",
    "\n",
    "for i in range(x-2,0,-1):\n",
    "    for j in range(1,x+1):\n",
    "        if j<=i:\n",
    "            if j%2==0:\n",
    "                print(\"#\",end=\"\")\n",
    "            else:\n",
    "                print(\"*\",end=\"\")\n",
    "    print(\" \"*(2*(x-i)), end=\"\")\n",
    "    for j in range(1,x+1):\n",
    "        if j<=i:\n",
    "            if j%2==0:\n",
    "                print(\"#\",end=\"\")\n",
    "            else:\n",
    "                print(\"*\",end=\"\")\n",
    "    print()\n",
    "#ผีเสื้อ\n",
    "    \n"
   ]
  },
  {
   "cell_type": "code",
   "execution_count": 87,
   "metadata": {},
   "outputs": [
    {
     "name": "stdout",
     "output_type": "stream",
     "text": [
      "3.141593\n"
     ]
    }
   ],
   "source": [
    "from math import pi\n",
    "\n",
    "x = pi\n",
    "\n",
    "print(\"%f\" %x) #3 3 3.14"
   ]
  },
  {
   "cell_type": "code",
   "execution_count": 102,
   "metadata": {},
   "outputs": [
    {
     "name": "stdout",
     "output_type": "stream",
     "text": [
      "c: A\n",
      "True if test\n",
      "c: T\n",
      "True if test\n",
      "c: G\n",
      "True if test\n",
      "c: G\n",
      "True if test\n",
      "c: C\n",
      "True if test\n",
      "c: A\n",
      "True if test\n",
      "c: T\n",
      "True if test\n",
      "c: T\n",
      "True if test\n",
      "c: A\n",
      "True if test\n",
      "otopotopotop "
     ]
    }
   ],
   "source": [
    "x = input(\"DNA\")\n",
    "a = input(\"Base\")\n",
    "c = \"\"\n",
    "t = True\n",
    "\n",
    "o = \"otop\"\n",
    "\n",
    "for i in x:\n",
    "    if i == a:\n",
    "        c += (\"%s\" %o)\n",
    "    \n",
    "  \n",
    "for j in x:\n",
    "    print(\"c: %s\" %j)\n",
    "    if t:\n",
    "        print(\"True if test\")\n",
    "print(c)\n"
   ]
  },
  {
   "cell_type": "code",
   "execution_count": null,
   "metadata": {},
   "outputs": [],
   "source": [
    "a,b = x = input(\"Please enter your information: \").split(\",\")\n",
    "\n",
    "if a.isnumeric() and b.isalpha() or a.isalpha() and b.isnumeric():\n",
    "    if a.isnumeric() and b.isalpha():\n",
    "        a = int(a)\n",
    "        if a >=0 and a<=120:\n",
    "            print(\"Your name is %s\" %b)\n",
    "            print(\"Your age is %s\" %a)\n",
    "        else:\n",
    "            print(\"Please enter your complete information.\")\n",
    "    elif a.isalpha() and b.isnumeric():\n",
    "        b = int(b)\n",
    "        if b >=0 and b<=120:\n",
    "            print(\"Your name is %s\" %a)\n",
    "            print(\"Your age is %s\" %b)\n",
    "        else:\n",
    "            print(\"Please enter your complete information.\")\n",
    "else:\n",
    "    print(\"Please enter your complete information.\")"
   ]
  },
  {
   "cell_type": "code",
   "execution_count": 89,
   "metadata": {},
   "outputs": [
    {
     "name": "stdout",
     "output_type": "stream",
     "text": [
      "#*$##$#*#**#$*$##$#*\n",
      "$$#*#$*$$*#$##*$#*$$\n",
      "$*$$$*#**$$$**$*###*\n",
      "$$$#*#*$$$$#*$*#*#**\n",
      "***$            ##$#\n",
      "*$*$#***$*$$*$***#*$\n",
      "##$*$$$##*#*#**#$$$*\n",
      "#$$$$#$*##$$*$#*$*$*\n",
      "*##*$$*#*##$*$$##*$$\n"
     ]
    }
   ],
   "source": [
    "import random\n",
    "\n",
    "w = input(\"Rectangle width\")\n",
    "h = input(\"Rectangle height: \")\n",
    "b = input(\"Border thickness: \")\n",
    "\n",
    "w = int(w)\n",
    "h = int(h)\n",
    "b = int(b)\n",
    "\n",
    "for i in range(h):\n",
    "    for j in range(w):\n",
    "        if j < b or j >= w-b or i < b or i >= h-b:\n",
    "            r = random.randint(0,2)\n",
    "            if r == 0:\n",
    "                print(\"#\", end=\"\")\n",
    "            elif r == 1:\n",
    "                print(\"*\", end=\"\")\n",
    "            elif r == 2:\n",
    "                print(\"$\", end=\"\")\n",
    "        else:\n",
    "            print(\" \", end=\"\")\n",
    "    print()\n",
    "# 4 เหลี่ยมมีรู\n"
   ]
  },
  {
   "cell_type": "code",
   "execution_count": 6,
   "metadata": {},
   "outputs": [
    {
     "name": "stdout",
     "output_type": "stream",
     "text": [
      "Beverage Menu\n",
      "--------------------------------------------------------\n",
      "| No. | Code | Item Name                      | Price  |\n",
      "--------------------------------------------------------\n",
      "|  1. | C    | Signature Chocolate            | 130.00 |\n",
      "|  2. | M    | Matcha Latte                   | 125.00 |\n",
      "|  3. | A    | Americano                      | 120.00 |\n",
      "|  4. | R    | Iced Raspberry Juice Tea       | 115.00 |\n",
      "|  5. | O    | Sai Nam Pueng Orange Juice     |  95.00 |\n",
      "|  6. | E    | Espresso                       |  50.00 |\n",
      "--------------------------------------------------------\n",
      "Bill summary\n",
      "--------------------------------------------------------\n",
      "| NO. | ITEM NAME                      | QTY  | AMOUNT |\n",
      "--------------------------------------------------------\n",
      "|  1. | Signature Chocolate            | 1    | 130.00 |\n",
      "|  2. | Matcha Latte                   | 1    | 125.00 |\n",
      "|  3. | Espresso                       | 2    | 100.00 |\n",
      "|  4. | Americano                      | 1    | 120.00 |\n",
      "|  5. | Iced Raspberry Juice Tea       | 1    | 115.00 |\n",
      "|  6. | Sai Nam Pueng Orange Juice     | 1    |  95.00 |\n",
      "--------------------------------------------------------\n",
      "| Subtotal                                    | 685.00 |\n",
      "| Total tax                                   |  47.95 |\n",
      "| Total                                       | 732.95 |\n",
      "--------------------------------------------------------\n"
     ]
    }
   ],
   "source": [
    "from operator import itemgetter\n",
    "\n",
    "coffeeDB = [['A','Americano',120],['M','Matcha Latte',125],['C','Signature Chocolate',130],['E','Espresso',50],['O','Sai Nam Pueng Orange Juice',95],['R','Iced Raspberry Juice Tea',115]]\n",
    "\n",
    "#### Task 1: Utilize the sorted() function to create a new variable sorted in descending order by price, which can be utilized for printing.\n",
    "menusorted = sorted(coffeeDB, key=itemgetter(2), reverse=True)\n",
    "\n",
    "print(\"Beverage Menu\")\n",
    "print(\"-\"*56)\n",
    "print(\"| %-3s | %-4s | %-30s | %-6s |\" % (\"No.\",\"Code\",\"Item Name\",\"Price\"))\n",
    "print(\"-\"*56)\n",
    "for i, val in enumerate(menusorted):\n",
    "    print(\"| %2d. | %-4s | %-30s | %6.2f |\" % (int(i+1),val[0],val[1],val[2]))\n",
    "print(\"-\"*56)\n",
    "\n",
    "menucode = [i[0] for i in coffeeDB]\n",
    "\n",
    "userorder = input(\"User's orders: \")\n",
    "\n",
    "summ_item = []\n",
    "for a in userorder:\n",
    "    if a.upper() in menucode:\n",
    "\n",
    "        #check exist\n",
    "\n",
    "        found = -1\n",
    "        for i, b in enumerate(summ_item):\n",
    "            if b[0] == a.upper():\n",
    "                found = i \n",
    "\n",
    "        #### CODE HERE ####\n",
    "        if found >= 0:\n",
    "            summ_item[found][1] += 1\n",
    "        elif found < 0:\n",
    "            summ_item.append([a.upper(), 1])\n",
    "        \"\"\"else:\n",
    "            print(\"skipping NOCODE (%s)\" % a)\"\"\"\n",
    "\n",
    "if len(summ_item) > 0:\n",
    "    print(\"Bill summary\")\n",
    "    print(\"-\"*56)\n",
    "    print(\"| %-3s | %-30s | %-4s | %-6s |\" % (\"NO.\",\"ITEM NAME\",\"QTY\",\"AMOUNT\"))\n",
    "    print(\"-\"*56)\n",
    "    total = 0\n",
    "    for i, val in enumerate(summ_item):\n",
    "\n",
    "        menudetail = [[d[1],d[2]] for d in coffeeDB if val[0] == d[0]]\n",
    "\n",
    "        #### Task 3: Complete the calculation for \"menuprice\", \"qty\", and \"total\".\n",
    "        #### CODE HERE ####\n",
    "\n",
    "        menuprice = menudetail[0][1]\n",
    "        qty = val[1]\n",
    "        amount = menuprice * qty\n",
    "        total += amount\n",
    "\n",
    "        print(\"| %2d. | %-30s | %-4s | %6.2f |\" % (i+1, menudetail[0][0], qty, amount))\n",
    "    print(\"-\"*56)\n",
    "\n",
    "    #### Task 4: Conclude the summary at the end of the bill with a VAT rate of 7%.\n",
    "    #### CODE HERE ####\n",
    "\n",
    "    subtotal = total\n",
    "    tax = subtotal * 0.07\n",
    "    grand_total = subtotal + tax\n",
    "\n",
    "    print(\"| %-43s | %6.2f |\" % (\"Subtotal\", subtotal))\n",
    "    print(\"| %-43s | %6.2f |\" % (\"Total tax\", tax))\n",
    "    print(\"| %-43s | %6.2f |\" % (\"Total\", grand_total))\n",
    "    print(\"-\"*56)\n",
    "else:\n",
    "    print(\"NO ORDER!!!\")\n"
   ]
  },
  {
   "cell_type": "code",
   "execution_count": 5,
   "metadata": {},
   "outputs": [
    {
     "data": {
      "text/plain": [
       "3"
      ]
     },
     "execution_count": 5,
     "metadata": {},
     "output_type": "execute_result"
    }
   ],
   "source": [
    "summ_item[found][1]"
   ]
  },
  {
   "cell_type": "code",
   "execution_count": 4,
   "metadata": {},
   "outputs": [
    {
     "name": "stdout",
     "output_type": "stream",
     "text": [
      "0.0001\n"
     ]
    }
   ],
   "source": [
    "print(float(0.0001))"
   ]
  },
  {
   "cell_type": "code",
   "execution_count": 1,
   "metadata": {},
   "outputs": [
    {
     "data": {
      "text/plain": [
       "5"
      ]
     },
     "execution_count": 1,
     "metadata": {},
     "output_type": "execute_result"
    }
   ],
   "source": [
    "max(5,4,5,1,2,3)"
   ]
  },
  {
   "cell_type": "code",
   "execution_count": 2,
   "metadata": {},
   "outputs": [
    {
     "name": "stdout",
     "output_type": "stream",
     "text": [
      "['SIIT']\n"
     ]
    }
   ],
   "source": [
    "x = input(\"Input: \").split()\n",
    "print(x)"
   ]
  },
  {
   "cell_type": "code",
   "execution_count": 3,
   "metadata": {},
   "outputs": [
    {
     "name": "stdout",
     "output_type": "stream",
     "text": [
      "ant = 2\n",
      "bat = 2\n"
     ]
    }
   ],
   "source": [
    "x = input(\"Input: \").split()\n",
    "d = {}\n",
    "\n",
    "# Count the frequency of each word in a case-insensitive manner\n",
    "for i in x:\n",
    "    i = i.lower()  # Convert to lowercase to ensure case insensitivity\n",
    "    if i in d:\n",
    "        d[i] += 1\n",
    "    else:\n",
    "        d[i] = 1\n",
    "\n",
    "# Find the maximum frequency\n",
    "max_freq = max(d.values())\n",
    "\n",
    "# Print the word(s) with the highest frequency\n",
    "for word, freq in d.items():\n",
    "    if freq == max_freq:\n",
    "        print(word, \"=\", freq)\n"
   ]
  },
  {
   "cell_type": "code",
   "execution_count": 4,
   "metadata": {},
   "outputs": [
    {
     "ename": "SyntaxError",
     "evalue": "cannot assign to True (3681160204.py, line 1)",
     "output_type": "error",
     "traceback": [
      "\u001b[1;36m  Cell \u001b[1;32mIn[4], line 1\u001b[1;36m\u001b[0m\n\u001b[1;33m    True = False\u001b[0m\n\u001b[1;37m    ^\u001b[0m\n\u001b[1;31mSyntaxError\u001b[0m\u001b[1;31m:\u001b[0m cannot assign to True\n"
     ]
    }
   ],
   "source": []
  },
  {
   "cell_type": "code",
   "execution_count": 1,
   "metadata": {},
   "outputs": [],
   "source": [
    "def w(n,p=\"SIIT\"):\n",
    "    print(\"Hi,\", n+\"!\", \"W to\", p+\".\")"
   ]
  },
  {
   "cell_type": "code",
   "execution_count": 2,
   "metadata": {},
   "outputs": [
    {
     "name": "stdout",
     "output_type": "stream",
     "text": [
      "Hi, Sheldon! W to SIIT.\n"
     ]
    }
   ],
   "source": [
    "w(\"Sheldon\")"
   ]
  },
  {
   "cell_type": "code",
   "execution_count": 3,
   "metadata": {},
   "outputs": [
    {
     "name": "stdout",
     "output_type": "stream",
     "text": [
      "Hi, Sdasd! W to Dasdsadds.\n"
     ]
    }
   ],
   "source": [
    "w(\"Sdasd\", \"Dasdsadds\")"
   ]
  },
  {
   "cell_type": "code",
   "execution_count": 4,
   "metadata": {},
   "outputs": [],
   "source": [
    "def f1():\n",
    "    global x\n",
    "    x = 10\n",
    "def f2():\n",
    "    x =20"
   ]
  },
  {
   "cell_type": "code",
   "execution_count": 6,
   "metadata": {},
   "outputs": [
    {
     "name": "stdout",
     "output_type": "stream",
     "text": [
      "15\n",
      "15\n"
     ]
    }
   ],
   "source": [
    "x=15\n",
    "print(x)\n"
   ]
  },
  {
   "cell_type": "code",
   "execution_count": 7,
   "metadata": {},
   "outputs": [
    {
     "name": "stdout",
     "output_type": "stream",
     "text": [
      "15\n"
     ]
    }
   ],
   "source": [
    "f1()\n",
    "print(x)"
   ]
  },
  {
   "cell_type": "code",
   "execution_count": 1,
   "metadata": {},
   "outputs": [],
   "source": [
    "l=[]"
   ]
  },
  {
   "cell_type": "code",
   "execution_count": 2,
   "metadata": {},
   "outputs": [],
   "source": [
    "l.append(20)"
   ]
  },
  {
   "cell_type": "code",
   "execution_count": 3,
   "metadata": {},
   "outputs": [
    {
     "data": {
      "text/plain": [
       "[20]"
      ]
     },
     "execution_count": 3,
     "metadata": {},
     "output_type": "execute_result"
    }
   ],
   "source": [
    "l"
   ]
  },
  {
   "cell_type": "code",
   "execution_count": 4,
   "metadata": {},
   "outputs": [
    {
     "name": "stdout",
     "output_type": "stream",
     "text": [
      "Error\n",
      "The summation is 11\n",
      "The minimum is 1\n",
      "The maximum is 4\n"
     ]
    }
   ],
   "source": [
    "xList = []\n",
    "\n",
    "def UserInput():\n",
    "    while True:\n",
    "        x = input(\"Enter an input: \")\n",
    "        if x == \"Done\":\n",
    "            break\n",
    "        else:\n",
    "            try:\n",
    "                x = int(x)\n",
    "                if x < 0:\n",
    "                    print(\"Error\")\n",
    "                else:\n",
    "                    xList.append(x)\n",
    "            except ValueError:\n",
    "                print(\"Error\")\n",
    "    return xList\n",
    "            \n",
    "def SumOut(xList):\n",
    "    return sum(xList)\n",
    "\n",
    "def MinOut(xList):\n",
    "    return min(xList)\n",
    "\n",
    "def MaxOut(xList):\n",
    "    return max(xList)\n",
    "\n",
    "# Call the UserInput function to get the input list\n",
    "UserInput()\n",
    "\n",
    "# Check if xList has any valid entries before printing the results\n",
    "if xList:\n",
    "    print(\"The summation is %d\" % SumOut(xList))\n",
    "    print(\"The minimum is %d\" % MinOut(xList))\n",
    "    print(\"The maximum is %d\" % MaxOut(xList))\n",
    "else:\n",
    "    print(\"No valid numbers entered.\")"
   ]
  },
  {
   "cell_type": "code",
   "execution_count": null,
   "metadata": {},
   "outputs": [
    {
     "name": "stdout",
     "output_type": "stream",
     "text": [
      "[]\n"
     ]
    },
    {
     "ename": "",
     "evalue": "",
     "output_type": "error",
     "traceback": [
      "\u001b[1;31mThe Kernel crashed while executing code in the current cell or a previous cell. \n",
      "\u001b[1;31mPlease review the code in the cell(s) to identify a possible cause of the failure. \n",
      "\u001b[1;31mClick <a href='https://aka.ms/vscodeJupyterKernelCrash'>here</a> for more info. \n",
      "\u001b[1;31mView Jupyter <a href='command:jupyter.viewOutput'>log</a> for further details."
     ]
    }
   ],
   "source": [
    "import numpy as np\n",
    "import math as m\n",
    "\n",
    "def Distance(p1,p2):\n",
    "    d = m.sqrt(np.sum((p1-p2)**2))\n",
    "    return d\n",
    "\n",
    "round = 1\n",
    "y = []\n",
    "\n",
    "while True:\n",
    "    x = input(\"P%d: \" %round)\n",
    "    if x.lower() in \"end\":\n",
    "        break\n",
    "    try:\n",
    "        x.split()\n",
    "        for i in x:\n",
    "            i = float(i)\n",
    "            y.append(i)\n",
    "\n",
    "    except ValueError:\n",
    "        continue\n",
    "\n",
    "\n",
    "print(y)"
   ]
  },
  {
   "cell_type": "code",
   "execution_count": 2,
   "metadata": {},
   "outputs": [],
   "source": [
    "import numpy as np"
   ]
  },
  {
   "cell_type": "code",
   "execution_count": null,
   "metadata": {},
   "outputs": [
    {
     "name": "stdout",
     "output_type": "stream",
     "text": [
      "[1 2 3]\n"
     ]
    },
    {
     "ename": "",
     "evalue": "",
     "output_type": "error",
     "traceback": [
      "\u001b[1;31mThe Kernel crashed while executing code in the current cell or a previous cell. \n",
      "\u001b[1;31mPlease review the code in the cell(s) to identify a possible cause of the failure. \n",
      "\u001b[1;31mClick <a href='https://aka.ms/vscodeJupyterKernelCrash'>here</a> for more info. \n",
      "\u001b[1;31mView Jupyter <a href='command:jupyter.viewOutput'>log</a> for further details."
     ]
    }
   ],
   "source": [
    "print(np.array([1,2,3]))"
   ]
  },
  {
   "cell_type": "code",
   "execution_count": 1,
   "metadata": {},
   "outputs": [],
   "source": [
    "import numpy as np"
   ]
  },
  {
   "cell_type": "code",
   "execution_count": 23,
   "metadata": {},
   "outputs": [
    {
     "name": "stdout",
     "output_type": "stream",
     "text": [
      "(3,)\n"
     ]
    }
   ],
   "source": [
    "print(np.shape(([1,2,3])))"
   ]
  },
  {
   "cell_type": "code",
   "execution_count": 24,
   "metadata": {},
   "outputs": [],
   "source": [
    "a = np.array([[1,1,2,4], [5,6,7,8], [3,2,1,0], [1,2,3,4]])\n",
    "\n",
    "size = np.shape(a)\n",
    "mid = size[0]//2"
   ]
  },
  {
   "cell_type": "code",
   "execution_count": 29,
   "metadata": {},
   "outputs": [
    {
     "name": "stdout",
     "output_type": "stream",
     "text": [
      "[[1 0 0 0]\n",
      " [0 2 0 0]\n",
      " [0 0 3 0]\n",
      " [0 0 0 4]]\n"
     ]
    }
   ],
   "source": [
    "print(np.diag([1,2,3,4]))"
   ]
  },
  {
   "cell_type": "code",
   "execution_count": null,
   "metadata": {},
   "outputs": [
    {
     "name": "stdout",
     "output_type": "stream",
     "text": [
      "[3 1 2 6 0 5 4]\n"
     ]
    }
   ],
   "source": [
    "a = np.argsort([10,2,3,1,20,12,5])\n",
    "print(a)\n",
    "\n",
    "0 20\n",
    "1 2\n",
    "2 3\n",
    "3 10\n",
    "4 5\n",
    "5 12\n",
    "6 1"
   ]
  },
  {
   "cell_type": "code",
   "execution_count": null,
   "metadata": {},
   "outputs": [],
   "source": []
  },
  {
   "cell_type": "code",
   "execution_count": null,
   "metadata": {},
   "outputs": [],
   "source": [
    "from operator import itemgetter\n",
    "\n",
    "d = {}\n",
    "\n",
    "while True:\n",
    "    x = input(\"Enter student ID and score: \").split()\n",
    "\n",
    "    id = x[0]\n",
    "    sc = x[1]\n",
    "\n",
    "    if id == 'done' and sc =='0':\n",
    "        break\n",
    "    else:\n",
    "        if id in d:\n",
    "            print(\"The ID is already recorded!\")\n",
    "        else:\n",
    "            if len(id) == 4 and id.isnumeric():\n",
    "\n",
    "                if sc.isnumeric():\n",
    "                    sc = int(sc)\n",
    "                    if sc >= 0 and sc <= 100:\n",
    "                        d[id] = sc\n",
    "                    else:\n",
    "                        print(\"Invalid score\")\n",
    "                else:\n",
    "                    print(\"Invalid score\")\n",
    "                        \n",
    "            else:\n",
    "                print(\"Invalid ID format!\")\n",
    "    \n",
    "def su(x):\n",
    "    return sum(x)\n",
    "\n",
    "def prin():\n",
    "    if d:\n",
    "        for k,v in sorted(d.items(), key = itemgetter(0)):\n",
    "            print(\"%s\\t%d\" %(k,v))\n",
    "    else:\n",
    "        print(\"> no score is recorded\")\n",
    "    print(\"There are %d student(s). The average score is %.2f points.\" %(len(d), su(d.values())/len(d)))\n",
    "\n",
    "prin()"
   ]
  },
  {
   "cell_type": "code",
   "execution_count": null,
   "metadata": {},
   "outputs": [],
   "source": [
    "from operator import itemgetter\n",
    "a = {\"ce\":0,\n",
    "    \"che\":0,\n",
    "    \"ec\":0,\n",
    "    \"ie\":0,\n",
    "    \"me\":0}\n",
    "b = {}\n",
    "\n",
    "while True:\n",
    "    x = input(\"Input: \").split()\n",
    "    n = x[0]\n",
    "    if n == \"done\":\n",
    "        break\n",
    "    m,o = x[1],x[2]\n",
    "    \n",
    "    o = float(o)\n",
    "    if o >= 0.00 and o <= 4.00: \n",
    "        if m in a.keys():\n",
    "            a[m] += 1\n",
    "            b[n] = (o,m)\n",
    "        else:\n",
    "            print(\"ERROR\")\n",
    "    else:\n",
    "        print(\"ERROR\")\n",
    "\n",
    "print(\"----SUMMARY----\")\n",
    "print(\"ce = %d\" %a[\"ce\"])\n",
    "print(\"che = %d\" %a[\"che\"])\n",
    "print(\"ec = %d\" %a[\"ce\"])\n",
    "print(\"ie = %d\" %a[\"ie\"])\n",
    "print(\"me = %d\" %a[\"me\"])\n",
    "\n",
    "for i,j,k in sorted(b.items(), key = itemgetter(1), reverse = True):\n",
    "    print(\"%s %s %.2f\" %(i,k,j))"
   ]
  },
  {
   "cell_type": "code",
   "execution_count": null,
   "metadata": {},
   "outputs": [],
   "source": []
  },
  {
   "cell_type": "code",
   "execution_count": null,
   "metadata": {},
   "outputs": [
    {
     "name": "stdout",
     "output_type": "stream",
     "text": [
      "<class 'tuple'>\n"
     ]
    }
   ],
   "source": [
    "print(type((1,2,3,4))) # (\"1\", \"2\", ) x,y,z = (1,1,2,3,4,5,6) "
   ]
  }
 ],
 "metadata": {
  "kernelspec": {
   "display_name": "Python 3",
   "language": "python",
   "name": "python3"
  },
  "language_info": {
   "codemirror_mode": {
    "name": "ipython",
    "version": 3
   },
   "file_extension": ".py",
   "mimetype": "text/x-python",
   "name": "python",
   "nbconvert_exporter": "python",
   "pygments_lexer": "ipython3",
   "version": "3.12.2"
  }
 },
 "nbformat": 4,
 "nbformat_minor": 2
}
