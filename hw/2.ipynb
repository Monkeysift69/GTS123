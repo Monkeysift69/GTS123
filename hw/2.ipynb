{
 "cells": [
  {
   "cell_type": "code",
   "execution_count": 13,
   "metadata": {},
   "outputs": [],
   "source": [
    "from operator import itemgetter\n",
    "\n",
    "coffeeDB = [['A','Americano',120],['M','Matcha Latte',125],['C','Signature Chocolate',130],['E','Espresso',50],['O','Sai Nam Pueng Orange Juice',95],['R','Iced Raspberry Juice Tea',115]]\n"
   ]
  },
  {
   "cell_type": "code",
   "execution_count": 14,
   "metadata": {},
   "outputs": [],
   "source": [
    "menucode = [i[0] for i in coffeeDB]\n"
   ]
  },
  {
   "cell_type": "code",
   "execution_count": 15,
   "metadata": {},
   "outputs": [],
   "source": [
    "userorder = input(\"User's orders: \")"
   ]
  },
  {
   "cell_type": "code",
   "execution_count": 31,
   "metadata": {},
   "outputs": [
    {
     "name": "stdout",
     "output_type": "stream",
     "text": [
      "\n",
      "0 -1 ['A', 1]\n",
      "\n",
      "0 -1 ['A', 1]\n",
      "1 1 ['M', 1]\n",
      "\n",
      "0 0 ['A', 1]\n",
      "1 0 ['M', 2]\n",
      "\n",
      "0 -1 ['A', 2]\n",
      "1 -1 ['M', 2]\n",
      "\n",
      "0 -1 ['A', 2]\n",
      "1 -1 ['M', 2]\n",
      "2 2 ['C', 1]\n",
      "\n",
      "0 -1 ['A', 2]\n",
      "1 -1 ['M', 2]\n",
      "2 2 ['C', 2]\n",
      "\n"
     ]
    }
   ],
   "source": [
    "summ_item = []\n",
    "for a in userorder:\n",
    "    if a.upper() in menucode:\n",
    "#AMMACCC\n",
    "        #check exist\n",
    "\n",
    "        found = -1\n",
    "        for i, b in enumerate(summ_item):\n",
    "            if b[0] == a.upper():\n",
    "                found = i \n",
    "        print()\n",
    "            \n",
    "### Task 2: The variable summ_item is designed to store menu codes and quantities.\n",
    "### If the variable \"found\" is greater than or equal to 0, it indicates that the menu code exists in summ_item with an index equal to found. In this case, you should update the quantity.\n",
    "### If the variable \"found\" is negative, it indicates that no menu code is found in summ_item. In this case, you should add the user's order.\n",
    "\n",
    "\n",
    "        #### CODE HERE ####\n",
    "    if found >= 0:\n",
    "        summ_item[found][1]+=1 # add qty of item\n",
    "    elif found < 0:\n",
    "        summ_item.append([a.upper(),1])\n",
    "    else:\n",
    "        print(\"skipping NOCODE (%s)\" % a)"
   ]
  },
  {
   "cell_type": "code",
   "execution_count": 26,
   "metadata": {},
   "outputs": [
    {
     "data": {
      "text/plain": [
       "['C', 3]"
      ]
     },
     "execution_count": 26,
     "metadata": {},
     "output_type": "execute_result"
    }
   ],
   "source": [
    "b"
   ]
  },
  {
   "cell_type": "code",
   "execution_count": 42,
   "metadata": {},
   "outputs": [],
   "source": [
    "if len(summ_item) > 0:\n",
    "    total = 0    \n",
    "    for i, val in enumerate(summ_item):   \n",
    "        menudetail = [[d[1],d[2]] for d in coffeeDB if val[0] == d[0]]"
   ]
  },
  {
   "cell_type": "code",
   "execution_count": 45,
   "metadata": {},
   "outputs": [
    {
     "data": {
      "text/plain": [
       "3"
      ]
     },
     "execution_count": 45,
     "metadata": {},
     "output_type": "execute_result"
    },
    {
     "ename": "",
     "evalue": "",
     "output_type": "error",
     "traceback": [
      "\u001b[1;31mThe Kernel crashed while executing code in the current cell or a previous cell. \n",
      "\u001b[1;31mPlease review the code in the cell(s) to identify a possible cause of the failure. \n",
      "\u001b[1;31mClick <a href='https://aka.ms/vscodeJupyterKernelCrash'>here</a> for more info. \n",
      "\u001b[1;31mView Jupyter <a href='command:jupyter.viewOutput'>log</a> for further details."
     ]
    }
   ],
   "source": []
  },
  {
   "cell_type": "code",
   "execution_count": 38,
   "metadata": {},
   "outputs": [],
   "source": [
    "#menudetail =\n",
    "for d in coffeeDB:\n",
    "    if val[0] == d[0]:\n",
    "        menudetail.append([d[1],[d[2]]])"
   ]
  },
  {
   "cell_type": "code",
   "execution_count": 41,
   "metadata": {},
   "outputs": [
    {
     "data": {
      "text/plain": [
       "[['Signature Chocolate', 130], ['Signature Chocolate', [130]]]"
      ]
     },
     "execution_count": 41,
     "metadata": {},
     "output_type": "execute_result"
    }
   ],
   "source": [
    "menudetail"
   ]
  },
  {
   "cell_type": "markdown",
   "metadata": {},
   "source": [
    "[['Signature Chocolate', 130]]"
   ]
  }
 ],
 "metadata": {
  "kernelspec": {
   "display_name": "Python 3",
   "language": "python",
   "name": "python3"
  },
  "language_info": {
   "codemirror_mode": {
    "name": "ipython",
    "version": 3
   },
   "file_extension": ".py",
   "mimetype": "text/x-python",
   "name": "python",
   "nbconvert_exporter": "python",
   "pygments_lexer": "ipython3",
   "version": "3.12.2"
  }
 },
 "nbformat": 4,
 "nbformat_minor": 2
}
