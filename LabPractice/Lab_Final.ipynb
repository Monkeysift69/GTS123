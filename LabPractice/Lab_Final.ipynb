{
 "cells": [
  {
   "cell_type": "code",
   "execution_count": null,
   "metadata": {},
   "outputs": [],
   "source": [
    "import numpy as np\n",
    "import pandas as pd\n",
    "\n",
    "d = np.loadtxt(fname='sales.tsv', dtype=str)\n",
    "\n",
    "branch = np.array(d[1:,0])\n",
    "sales = np.array(d[1:,1:]).astype(int)\n",
    "\n",
    "total = np.sum(sales,axis=1)\n",
    "print(total)\n",
    "suu = np.sort(total)\n",
    "print(suu)\n",
    "arg = np.argsort(total)\n",
    "print(arg)#[2 4 3 1 0]\n",
    "for i in range(len(sales)-1,-1,-1):\n",
    "    print(branch[arg[i]],suu[i])\n"
   ]
  },
  {
   "cell_type": "code",
   "execution_count": null,
   "metadata": {},
   "outputs": [],
   "source": [
    "import numpy as np\n",
    "data = np.loadtxt(\"C:/Users/LabCom/Downloads/sales.tsv\", delimiter='\\t', dtype=str)\n",
    "print(data)\n",
    "branch = data[:,0]\n",
    "sale = data[:,1:]\n",
    "sale = sale.astype(int)\n",
    "sum_of_salebranch = (np.sum(sale, axis=1))\n",
    "print(sum_of_salebranch)\n",
    "x = np.argsort(sum_of_salebranch)[::-1]\n",
    "print(sum_of_salebranch)\n",
    "print(branch)\n",
    "print(x)\n",
    "for i in x:\n",
    "    print(branch[i],sum_of_salebranch[i])"
   ]
  },
  {
   "cell_type": "code",
   "execution_count": null,
   "metadata": {},
   "outputs": [],
   "source": [
    "from operator import itemgetter #import itemgetter\n",
    "d = {} #create an empty dictionary\n",
    "while True: #loop until the user enters 'done 0'\n",
    "    x = input(\"Enter student ID and score: \").split() #split the input into a list\n",
    "    id = x[0] #get the first\n",
    "    sc = x[1] #and second element of the list\n",
    "    if id == 'done' and sc =='0': #if the user enters 'done 0', break the loop\n",
    "        break #break the loop\n",
    "    else: #otherwise\n",
    "        if id in d: #if the ID is already in the dictionary\n",
    "            print(\"The ID is already recorded!\") #print a message\n",
    "        else:   #otherwise\n",
    "            if len(id) == 4 and id.isnumeric(): #check if the ID is 4 digits and numeric\n",
    "\n",
    "                if sc.isnumeric(): #check if the score is numeric\n",
    "                    sc = int(sc) #convert the score to an integer\n",
    "                    if sc >= 0 and sc <= 100: #check if the score is between 0 and 100\n",
    "                        d[id] = sc #add the ID and score to the dictionary\n",
    "                    else: #if the score is not between 0 and\n",
    "                        print(\"Invalid score\") #print a message\n",
    "                else:\n",
    "                    print(\"Invalid score\")  \n",
    "            else:\n",
    "                print(\"Invalid ID format!\")\n",
    "def su(x): #define a function to calculate the sum\n",
    "    return sum(x) #return the sum of the input\n",
    "def Output(): #define a function to print the output\n",
    "    if d: #if the dictionary is not empty\n",
    "        for k,v in sorted(d.items(), key = itemgetter(0)): #sort the dictionary by ID\n",
    "            print(\"%s\\t%d\" %(k,v)) #print the ID and score\n",
    "    else:\n",
    "        print(\"> nos score is recorded\")\n",
    "    print(\"There are %d student(s). The average score is %.2f points.\" %(len(d), su(d.values())/len(d))) \n",
    "Output() #call the function"
   ]
  }
 ],
 "metadata": {
  "kernelspec": {
   "display_name": "Python 3",
   "language": "python",
   "name": "python3"
  },
  "language_info": {
   "name": "python",
   "version": "3.12.2"
  }
 },
 "nbformat": 4,
 "nbformat_minor": 2
}
